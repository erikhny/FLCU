{
 "cells": [
  {
   "cell_type": "markdown",
   "id": "edd00a72",
   "metadata": {},
   "source": [
    "# Federated learning - Client aggregation"
   ]
  },
  {
   "cell_type": "markdown",
   "id": "48529658",
   "metadata": {},
   "source": [
    "### Imports"
   ]
  },
  {
   "cell_type": "code",
   "execution_count": 89,
   "id": "e6af8ddd",
   "metadata": {},
   "outputs": [],
   "source": [
    "import tensorflow as tf\n",
    "\n",
    "from tensorflow.keras import datasets, layers, models\n",
    "import matplotlib.pyplot as plt\n",
    "import numpy as np\n",
    "import copy\n",
    "import random\n",
    "import math"
   ]
  },
  {
   "cell_type": "code",
   "execution_count": 90,
   "id": "b38f7e9f",
   "metadata": {},
   "outputs": [],
   "source": [
    "## CONSTANTS\n",
    "NUMBER_OF_CLIENTS = 10 # Currently only 10 data splits\n",
    "LOCAL_EPOCHS = 3\n",
    "ROUNDS = 1"
   ]
  },
  {
   "cell_type": "markdown",
   "id": "77f8b072",
   "metadata": {},
   "source": [
    "### Prepare the data"
   ]
  },
  {
   "cell_type": "markdown",
   "id": "72f502ac",
   "metadata": {},
   "source": [
    "##### MNIST"
   ]
  },
  {
   "cell_type": "code",
   "execution_count": 91,
   "id": "e13b9e45",
   "metadata": {},
   "outputs": [
    {
     "name": "stdout",
     "output_type": "stream",
     "text": [
      "5923 5923 1000 1000\n"
     ]
    },
    {
     "name": "stderr",
     "output_type": "stream",
     "text": [
      "a:\\projects\\python sesong 2\\env\\lib\\site-packages\\numpy\\core\\_asarray.py:83: VisibleDeprecationWarning: Creating an ndarray from ragged nested sequences (which is a list-or-tuple of lists-or-tuples-or ndarrays with different lengths or shapes) is deprecated. If you meant to do this, you must specify 'dtype=object' when creating the ndarray\n",
      "  return array(a, dtype, copy=False, order=order)\n"
     ]
    }
   ],
   "source": [
    "(train_images, train_labels), (test_images, test_labels) = datasets.mnist.load_data()\n",
    "train_data, train_data_labels, test_data, test_data_labels = [[[] for i in range(10)] for i in range(4)]\n",
    "    \n",
    "list(map(lambda a,b:sort_lists(train_data,train_data_labels, a, b), train_images, train_labels))\n",
    "#list(map(lambda a,b:sort_lists(test_data,test_data_labels, a, b), test_images, test_labels))\n",
    "test_data, test_data_labels = list(split(test_images, NUMBER_OF_CLIENTS)), list(split(test_labels, NUMBER_OF_CLIENTS))\n",
    "\n",
    "train_data, train_data_labels, test_data_labels, test_data_labels = np.asarray(train_data), np.asarray(train_data_labels), np.asarray(test_data_labels), np.asarray(test_data_labels)\n",
    "\n",
    "print(len(train_data[0]), len(train_data_labels[0]), len(test_data[0]), len(test_data_labels[0]))"
   ]
  },
  {
   "cell_type": "markdown",
   "id": "d0422b37",
   "metadata": {},
   "source": [
    "###### CIFAR10"
   ]
  },
  {
   "cell_type": "code",
   "execution_count": 92,
   "id": "2f867cce",
   "metadata": {},
   "outputs": [],
   "source": [
    "(cifar_images, cifar_labels), (cifar_test_images, cifar_test_labels) = datasets.cifar10.load_data()\n",
    "cifar_train_data, cifar_train_labels, cifar_test_data, cifar_test_labels = [[[] for i in range(10)] for i in range(4)]\n"
   ]
  },
  {
   "cell_type": "markdown",
   "id": "9713ba2d",
   "metadata": {},
   "source": [
    "### Models"
   ]
  },
  {
   "cell_type": "markdown",
   "id": "76fd1658",
   "metadata": {},
   "source": [
    "###### MNIST"
   ]
  },
  {
   "cell_type": "code",
   "execution_count": 93,
   "id": "b37001b2",
   "metadata": {},
   "outputs": [],
   "source": [
    "mnist_model = tf.keras.models.Sequential([\n",
    "            tf.keras.layers.Flatten(input_shape=(28, 28)),\n",
    "            tf.keras.layers.Dense(128, activation='relu'),\n",
    "            tf.keras.layers.Dense(10)\n",
    "        ])\n",
    "\n",
    "mnist_model.compile(\n",
    "                optimizer=tf.keras.optimizers.SGD(0.01),\n",
    "                loss=tf.keras.losses.SparseCategoricalCrossentropy(from_logits=True),\n",
    "                metrics=[tf.keras.metrics.SparseCategoricalAccuracy()],\n",
    "             )"
   ]
  },
  {
   "cell_type": "markdown",
   "id": "582d4f93",
   "metadata": {},
   "source": [
    "###### CIFAR10"
   ]
  },
  {
   "cell_type": "code",
   "execution_count": 94,
   "id": "b1098a20",
   "metadata": {},
   "outputs": [],
   "source": [
    "# TODO"
   ]
  },
  {
   "cell_type": "markdown",
   "id": "f0d1616c",
   "metadata": {},
   "source": [
    "### Classes and methods"
   ]
  },
  {
   "cell_type": "markdown",
   "id": "d3d227a6",
   "metadata": {},
   "source": [
    "###### Server class"
   ]
  },
  {
   "cell_type": "code",
   "execution_count": 95,
   "id": "1e86f151",
   "metadata": {},
   "outputs": [],
   "source": [
    "class Server():\n",
    "    def __init__(self, model):\n",
    "        self.clients = []\n",
    "        self.client_weights = []\n",
    "        self.weights = []\n",
    "        self.model = mnist_model = tf.keras.models.Sequential([\n",
    "            tf.keras.layers.Flatten(input_shape=(28, 28)),\n",
    "            tf.keras.layers.Dense(128, activation='relu'),\n",
    "            tf.keras.layers.Dense(10)\n",
    "        ])\n",
    "        self.model.compile(\n",
    "                optimizer=tf.keras.optimizers.SGD(0.1),\n",
    "                loss=tf.keras.losses.SparseCategoricalCrossentropy(from_logits=True),\n",
    "                metrics=[tf.keras.metrics.SparseCategoricalAccuracy()],\n",
    "             )\n",
    "        \n",
    "    # Implementing a getter because TF get_weights returns a list rather than array.\n",
    "    def get_weights(self):\n",
    "        return np.asarray(self.model.get_weights())\n",
    "    \n",
    "    # Performs a single round of training for set amount of epochs    \n",
    "    def train_clients(self):\n",
    "        for c in self.clients:\n",
    "            self.client_weights.append(c.train())\n",
    "        return self.client_weights\n",
    "    \n",
    "    # Updates weights for server and clients\n",
    "    def update_weights(self, new_weights):\n",
    "        self.weights = new_weights\n",
    "        for c in self.clients:\n",
    "            c.update_weights(self.get_weights())\n",
    "            \n",
    "    # Performs federated averaging for given amount of rounds\n",
    "    def federated_averaging(self, rnds):\n",
    "        average_weights = np.asarray(self.model.get_weights())\n",
    "        # Training for a specified amount of rounds\n",
    "        for rnd in range(rnds):\n",
    "            t_weights = []\n",
    "            total_samples = 0\n",
    "            # Training loop - trains each client for a single round for a specified amount of epochs\n",
    "            for client in self.clients:\n",
    "                t_weights.append(client.train(LOCAL_EPOCHS))\n",
    "\n",
    "                total_samples += client.get_sample_amount()\n",
    "\n",
    "            tmp_weights = [t_weights[i] * len(self.clients[i].dataset.testing_data) for i in range(len(self.clients))]\n",
    "            tmp_weights = [w / total_samples for w in average_weights]\n",
    "\n",
    "            average_weights = [x + y for x, y in zip(init_weights, tmp_weights)]\n",
    "\n",
    "        self.update_weights(np.asarray(average_weights))\n",
    "        print('FINISHED')"
   ]
  },
  {
   "cell_type": "markdown",
   "id": "7e491687",
   "metadata": {},
   "source": [
    "###### Client class"
   ]
  },
  {
   "cell_type": "code",
   "execution_count": 96,
   "id": "583c941d",
   "metadata": {},
   "outputs": [],
   "source": [
    "# Class representing the client and the necessary methods a client requires.\n",
    "class Client():\n",
    "    def __init__(self, model, dataset):\n",
    "        self.model = tf.keras.models.Sequential([\n",
    "            tf.keras.layers.Flatten(input_shape=(28, 28)),\n",
    "            tf.keras.layers.Dense(128, activation='relu'),\n",
    "            tf.keras.layers.Dense(10)\n",
    "        ])\n",
    "        self.model.compile(\n",
    "                optimizer=tf.keras.optimizers.SGD(0.01),\n",
    "                loss=tf.keras.losses.SparseCategoricalCrossentropy(from_logits=True),\n",
    "                metrics=[tf.keras.metrics.SparseCategoricalAccuracy()],\n",
    "             )\n",
    "        self.dataset = dataset\n",
    "        self.active_weights = self.get_weights()\n",
    "        self.rep_weights = self.active_weights\n",
    "        \n",
    "    # Implementing a getter because TF get_weights returns a list rather than array.\n",
    "    def get_weights(self):\n",
    "        return np.asarray(self.model.get_weights())\n",
    "    \n",
    "    # Getter just for better readability\n",
    "    def get_sample_amount(self):\n",
    "        return len(self.dataset.training_data)\n",
    "    \n",
    "    def train(self, epochs):\n",
    "        self.model.fit(\n",
    "                self.dataset.training_data, \n",
    "                self.dataset.training_labels, \n",
    "                epochs=LOCAL_EPOCHS, \n",
    "                validation_data=(\n",
    "                    self.dataset.testing_data,\n",
    "                    self.dataset.testing_labels\n",
    "                ))\n",
    "        \n",
    "        self.rep_weights = np.asarray(self.model.get_weights())\n",
    "        return self.rep_weights\n",
    "    \n",
    "    def update_weights(self, new_weights):\n",
    "        assert self.active_weights.shape == new_weights.shape, \"Shapes for the input weights are not the same\"\n",
    "        self.active_weights = np.mean( np.array([ self.active_weights, new_weights ]), axis=0 )\n",
    "        self.model.set_weights(self.active_weights)\n",
    "        \n",
    "        \n",
    "    "
   ]
  },
  {
   "cell_type": "markdown",
   "id": "3fd18474",
   "metadata": {},
   "source": [
    "###### Dataset class"
   ]
  },
  {
   "cell_type": "code",
   "execution_count": 97,
   "id": "88abb26b",
   "metadata": {},
   "outputs": [],
   "source": [
    "class Dataset():\n",
    "    def __init__(self, training_data, training_labels, testing_data, testing_labels):\n",
    "        self.training_data = np.asarray(training_data)\n",
    "        self.training_labels = np.asarray(training_labels)\n",
    "        self.testing_data = np.asarray(testing_data)\n",
    "        self.testing_labels = np.asarray(testing_labels)\n",
    "        \n",
    "    def get_training_data_distribution(self):\n",
    "        labels = np.unique(self.training_labels)\n",
    "        dist = {}\n",
    "        for i in labels:\n",
    "            dist[i] = np.where(self.training_labels == i)\n",
    "        return dist\n",
    "    \n",
    "    def get_testing_data_distribution(self):\n",
    "        labels = np.unique(self.testing_labels)\n",
    "        dist = {}\n",
    "        for i in labels:\n",
    "            dist[i] = np.where(self.testing_labels == i)\n",
    "        return dist"
   ]
  },
  {
   "cell_type": "markdown",
   "id": "e160a35a",
   "metadata": {},
   "source": [
    "###### Utility methods"
   ]
  },
  {
   "cell_type": "code",
   "execution_count": 98,
   "id": "9f27b78d",
   "metadata": {},
   "outputs": [],
   "source": [
    "def set_client_weights(weights, clients):\n",
    "    for c in clients:\n",
    "        c.model.set_weights(weights)"
   ]
  },
  {
   "cell_type": "code",
   "execution_count": 99,
   "id": "32ee8fec",
   "metadata": {},
   "outputs": [],
   "source": [
    "def sort_lists(list_a, list_b, data_entry, data_label):\n",
    "    list_a[data_label].append(data_entry)\n",
    "    list_b[data_label].append(data_label)"
   ]
  },
  {
   "cell_type": "code",
   "execution_count": 100,
   "id": "79c5ddc2",
   "metadata": {},
   "outputs": [],
   "source": [
    "def split(array, partitions):\n",
    "    k, m = divmod(len(array), partitions)\n",
    "    return (array[i*k+min(i, m):(i+1)*k+min(i+1, m)] for i in range(partitions))"
   ]
  },
  {
   "cell_type": "code",
   "execution_count": 12,
   "id": "1be089fb",
   "metadata": {},
   "outputs": [
    {
     "name": "stdout",
     "output_type": "stream",
     "text": [
      "60000 (array([[  0,   0,   0,   0,   0,   0,   0,   0,   0,   0,   0,   0,   0,\n",
      "          0,   0,   0,   0,   0,   0,   0,   0,   0,   0,   0,   0,   0,\n",
      "          0,   0],\n",
      "       [  0,   0,   0,   0,   0,   0,   0,   0,   0,   0,   0,   0,   0,\n",
      "          0,   0,   0,   0,   0,   0,   0,   0,   0,   0,   0,   0,   0,\n",
      "          0,   0],\n",
      "       [  0,   0,   0,   0,   0,   0,   0,   0,   0,   0,   0,   0,   0,\n",
      "          0,   0,   0,   0,   0,   0,   0,   0,   0,   0,   0,   0,   0,\n",
      "          0,   0],\n",
      "       [  0,   0,   0,   0,   0,   0,   0,   0,   0,   0,   0,   0,   0,\n",
      "          0,   0,   0,   0,   0,   0,   0,   0,   0,   0,   0,   0,   0,\n",
      "          0,   0],\n",
      "       [  0,   0,   0,   0,   0,   0,   0,   0,   0,   0,   0,   0,   0,\n",
      "          0,   0,   0,   0,   0,   0,   0,   0,   0,   0,   0,   0,   0,\n",
      "          0,   0],\n",
      "       [  0,   0,   0,   0,   0,   0,   0,   0,   0,   0,   0,   0,   0,\n",
      "          0,   0,   0,   0,   3, 185, 219, 132,  19,   0,   0,   0,   0,\n",
      "          0,   0],\n",
      "       [  0,   0,   0,   0,   0,   0,   0,   0,  47, 145, 145,  21,   0,\n",
      "          0,   0,   0,   4, 126, 252, 252, 252, 159,  83,   0,   0,   0,\n",
      "          0,   0],\n",
      "       [  0,   0,   0,   0,   0,   0,   0,   0, 181, 252, 252, 170,  32,\n",
      "          0,   0,   0,  54, 252, 252, 252, 252, 252, 143,   0,   0,   0,\n",
      "          0,   0],\n",
      "       [  0,   0,   0,   0,   0,   0,   0,  33, 229, 252, 252, 252, 143,\n",
      "          0,   0,   5, 175, 252, 252, 252, 252, 252, 121,   0,   0,   0,\n",
      "          0,   0],\n",
      "       [  0,   0,   0,   0,   0,   0,   0, 135, 252, 252, 252, 252, 115,\n",
      "          0,   0, 111, 252, 252, 252, 252, 252,  97,   7,   0,   0,   0,\n",
      "          0,   0],\n",
      "       [  0,   0,   0,   0,   0,   0,  28, 233, 252, 252, 252, 252,  23,\n",
      "          0,   0, 145, 252, 252, 252, 252, 187,   9,   0,   0,   0,   0,\n",
      "          0,   0],\n",
      "       [  0,   0,   0,   0,   0,   0, 134, 252, 252, 252, 252, 252,  23,\n",
      "          0,  51, 232, 252, 252, 252, 252, 128,   0,   0,   0,   0,   0,\n",
      "          0,   0],\n",
      "       [  0,   0,   0,   0,   0,  68, 239, 252, 252, 252, 252, 252, 111,\n",
      "         97, 179, 252, 252, 252, 252, 252, 126,  60,   0,   0,   0,   0,\n",
      "          0,   0],\n",
      "       [  0,   0,   0,   0,   0, 145, 252, 252, 252, 252, 252, 252, 252,\n",
      "        252, 253, 252, 252, 252, 252, 252, 252, 197,  10,   0,   0,   0,\n",
      "          0,   0],\n",
      "       [  0,   0,   0,   0,   0, 145, 252, 252, 252, 252, 252, 252, 252,\n",
      "        252, 253, 252, 252, 252, 252, 252, 252, 252,  23,   0,   0,   0,\n",
      "          0,   0],\n",
      "       [  0,   0,   0,   0,   0, 139, 253, 253, 253, 253, 253, 253, 253,\n",
      "        253, 255, 253, 253, 253, 245, 241, 201,  75,   0,   0,   0,   0,\n",
      "          0,   0],\n",
      "       [  0,   0,   0,   0,   0,  11, 186, 252, 252, 241, 204, 108, 108,\n",
      "        188, 253, 252, 252, 252, 175,  35,   0,   0,   0,   0,   0,   0,\n",
      "          0,   0],\n",
      "       [  0,   0,   0,   0,   0,   0,  14,  96, 182, 113, 143,  47, 136,\n",
      "        248, 253, 252, 252, 252, 252,  77,   0,   0,   0,   0,   0,   0,\n",
      "          0,   0],\n",
      "       [  0,   0,   0,   0,   0,   0,   0,   0,   0,   0,   0,   0, 109,\n",
      "        252, 253, 252, 252, 252, 252, 228, 113,   0,   0,   0,   0,   0,\n",
      "          0,   0],\n",
      "       [  0,   0,   0,   0,   0,   0,   0,   0,   0,   0,   0,   0,  31,\n",
      "        186, 253, 252, 252, 252, 180,  72,  48,   0,   0,   0,   0,   0,\n",
      "          0,   0],\n",
      "       [  0,   0,   0,   0,   0,   0,   0,   0,   0,   0,   0,   0,  84,\n",
      "        250, 253, 252, 252, 252, 163,   0,   0,   0,   0,   0,   0,   0,\n",
      "          0,   0],\n",
      "       [  0,   0,   0,   0,   0,   0,   0,   0,   0,   0,   0,   0, 109,\n",
      "        252, 253, 252, 252, 252, 192,   0,   0,   0,   0,   0,   0,   0,\n",
      "          0,   0],\n",
      "       [  0,   0,   0,   0,   0,   0,   0,   0,   0,   0,   0,   0, 212,\n",
      "        252, 253, 252, 252, 252,  89,   0,   0,   0,   0,   0,   0,   0,\n",
      "          0,   0],\n",
      "       [  0,   0,   0,   0,   0,   0,   0,   0,   0,   0,   0,   0, 177,\n",
      "        252, 253, 252, 252, 208,   7,   0,   0,   0,   0,   0,   0,   0,\n",
      "          0,   0],\n",
      "       [  0,   0,   0,   0,   0,   0,   0,   0,   0,   0,   0,   0, 109,\n",
      "        252, 253, 252, 235,  49,   0,   0,   0,   0,   0,   0,   0,   0,\n",
      "          0,   0],\n",
      "       [  0,   0,   0,   0,   0,   0,   0,   0,   0,   0,   0,   0,   0,\n",
      "          0,   0,   0,   0,   0,   0,   0,   0,   0,   0,   0,   0,   0,\n",
      "          0,   0],\n",
      "       [  0,   0,   0,   0,   0,   0,   0,   0,   0,   0,   0,   0,   0,\n",
      "          0,   0,   0,   0,   0,   0,   0,   0,   0,   0,   0,   0,   0,\n",
      "          0,   0],\n",
      "       [  0,   0,   0,   0,   0,   0,   0,   0,   0,   0,   0,   0,   0,\n",
      "          0,   0,   0,   0,   0,   0,   0,   0,   0,   0,   0,   0,   0,\n",
      "          0,   0]], dtype=uint8), 4)\n"
     ]
    }
   ],
   "source": [
    "def mix_data(train_list, test_list):\n",
    "    train_img, train_lbl, test_img, test_lbl = [[[] for i in range(10)] for i in range(4)]\n",
    "    train_data = []\n",
    "    for i in range(len(train_list[0])):\n",
    "        train_data.append((train_list[0][i], train_list[1][i]))\n",
    "    \n",
    "    random.shuffle(train_data)\n",
    "    print(len(train_data), train_data[0])\n",
    "mix_data((train_images, train_labels), (test_images, test_labels))"
   ]
  },
  {
   "cell_type": "markdown",
   "id": "753f5b68",
   "metadata": {},
   "source": [
    "### Initialize variables"
   ]
  },
  {
   "cell_type": "markdown",
   "id": "2a7067d8",
   "metadata": {},
   "source": [
    "##### Constants"
   ]
  },
  {
   "cell_type": "code",
   "execution_count": null,
   "id": "f9112c2f",
   "metadata": {},
   "outputs": [],
   "source": []
  },
  {
   "cell_type": "markdown",
   "id": "28305b21",
   "metadata": {},
   "source": [
    "##### Objects"
   ]
  },
  {
   "cell_type": "code",
   "execution_count": 101,
   "id": "a6301411",
   "metadata": {},
   "outputs": [],
   "source": [
    "server = Server(mnist_model)\n",
    "init_weights = np.asarray(server.model.get_weights())\n",
    "\n",
    "# Populate the server's client list with clients holding data\n",
    "server.clients = [Client(copy.deepcopy(mnist_model), Dataset(train_data[i], train_data_labels[i], test_data[i], test_data_labels[i])) for i in range(NUMBER_OF_CLIENTS)]"
   ]
  },
  {
   "cell_type": "markdown",
   "id": "b5057221",
   "metadata": {},
   "source": [
    "##### Execution"
   ]
  },
  {
   "cell_type": "code",
   "execution_count": 102,
   "id": "f55a397d",
   "metadata": {},
   "outputs": [
    {
     "name": "stdout",
     "output_type": "stream",
     "text": [
      "Epoch 1/3\n",
      "186/186 [==============================] - 1s 3ms/step - loss: 1.2899 - sparse_categorical_accuracy: 0.9946 - val_loss: 55767.1523 - val_sparse_categorical_accuracy: 0.0850\n",
      "Epoch 2/3\n",
      "186/186 [==============================] - 0s 2ms/step - loss: 0.0000e+00 - sparse_categorical_accuracy: 1.0000 - val_loss: 55767.1523 - val_sparse_categorical_accuracy: 0.0850\n",
      "Epoch 3/3\n",
      "186/186 [==============================] - 0s 2ms/step - loss: 0.0000e+00 - sparse_categorical_accuracy: 1.0000 - val_loss: 55767.1523 - val_sparse_categorical_accuracy: 0.0850\n",
      "Epoch 1/3\n",
      "211/211 [==============================] - 1s 3ms/step - loss: 0.1544 - sparse_categorical_accuracy: 0.9970 - val_loss: 11820.2607 - val_sparse_categorical_accuracy: 0.1080\n",
      "Epoch 2/3\n",
      "211/211 [==============================] - 0s 2ms/step - loss: 0.0000e+00 - sparse_categorical_accuracy: 1.0000 - val_loss: 11820.2607 - val_sparse_categorical_accuracy: 0.1080\n",
      "Epoch 3/3\n",
      "211/211 [==============================] - 0s 2ms/step - loss: 0.0000e+00 - sparse_categorical_accuracy: 1.0000 - val_loss: 11820.2607 - val_sparse_categorical_accuracy: 0.1080\n",
      "Epoch 1/3\n",
      "187/187 [==============================] - 1s 3ms/step - loss: 0.0801 - sparse_categorical_accuracy: 0.9982 - val_loss: 10774.8359 - val_sparse_categorical_accuracy: 0.0940\n",
      "Epoch 2/3\n",
      "187/187 [==============================] - 0s 2ms/step - loss: 0.0000e+00 - sparse_categorical_accuracy: 1.0000 - val_loss: 10774.8359 - val_sparse_categorical_accuracy: 0.0940\n",
      "Epoch 3/3\n",
      "187/187 [==============================] - 0s 2ms/step - loss: 0.0000e+00 - sparse_categorical_accuracy: 1.0000 - val_loss: 10774.8359 - val_sparse_categorical_accuracy: 0.0940\n",
      "Epoch 1/3\n",
      "192/192 [==============================] - 1s 2ms/step - loss: 0.6408 - sparse_categorical_accuracy: 0.9951 - val_loss: 58818.5273 - val_sparse_categorical_accuracy: 0.0920\n",
      "Epoch 2/3\n",
      "192/192 [==============================] - 0s 2ms/step - loss: 0.0000e+00 - sparse_categorical_accuracy: 1.0000 - val_loss: 58818.5273 - val_sparse_categorical_accuracy: 0.0920\n",
      "Epoch 3/3\n",
      "192/192 [==============================] - 0s 2ms/step - loss: 0.0000e+00 - sparse_categorical_accuracy: 1.0000 - val_loss: 58818.5273 - val_sparse_categorical_accuracy: 0.0920\n",
      "Epoch 1/3\n",
      "183/183 [==============================] - 1s 2ms/step - loss: 0.7075 - sparse_categorical_accuracy: 0.9949 - val_loss: 51274.3320 - val_sparse_categorical_accuracy: 0.0820\n",
      "Epoch 2/3\n",
      "183/183 [==============================] - 0s 2ms/step - loss: 0.0000e+00 - sparse_categorical_accuracy: 1.0000 - val_loss: 51274.3320 - val_sparse_categorical_accuracy: 0.0820\n",
      "Epoch 3/3\n",
      "183/183 [==============================] - 0s 2ms/step - loss: 0.0000e+00 - sparse_categorical_accuracy: 1.0000 - val_loss: 51274.3320 - val_sparse_categorical_accuracy: 0.0820\n",
      "Epoch 1/3\n",
      "170/170 [==============================] - 1s 3ms/step - loss: 1.2593 - sparse_categorical_accuracy: 0.9941 - val_loss: 41804.6094 - val_sparse_categorical_accuracy: 0.0920\n",
      "Epoch 2/3\n",
      "170/170 [==============================] - 0s 2ms/step - loss: 0.0000e+00 - sparse_categorical_accuracy: 1.0000 - val_loss: 41804.6094 - val_sparse_categorical_accuracy: 0.0920\n",
      "Epoch 3/3\n",
      "170/170 [==============================] - 0s 2ms/step - loss: 0.0000e+00 - sparse_categorical_accuracy: 1.0000 - val_loss: 41804.6094 - val_sparse_categorical_accuracy: 0.0920\n",
      "Epoch 1/3\n",
      "185/185 [==============================] - 1s 3ms/step - loss: 1.1963 - sparse_categorical_accuracy: 0.9946 - val_loss: 62051.6250 - val_sparse_categorical_accuracy: 0.0940\n",
      "Epoch 2/3\n",
      "185/185 [==============================] - 0s 2ms/step - loss: 0.0000e+00 - sparse_categorical_accuracy: 1.0000 - val_loss: 62051.6250 - val_sparse_categorical_accuracy: 0.0940\n",
      "Epoch 3/3\n",
      "185/185 [==============================] - 0s 2ms/step - loss: 0.0000e+00 - sparse_categorical_accuracy: 1.0000 - val_loss: 62051.6250 - val_sparse_categorical_accuracy: 0.0940\n",
      "Epoch 1/3\n",
      "196/196 [==============================] - 1s 3ms/step - loss: 0.5749 - sparse_categorical_accuracy: 0.9955 - val_loss: 49824.2305 - val_sparse_categorical_accuracy: 0.1010\n",
      "Epoch 2/3\n",
      "196/196 [==============================] - 0s 2ms/step - loss: 0.0000e+00 - sparse_categorical_accuracy: 1.0000 - val_loss: 49824.2305 - val_sparse_categorical_accuracy: 0.1010\n",
      "Epoch 3/3\n",
      "196/196 [==============================] - 0s 2ms/step - loss: 0.0000e+00 - sparse_categorical_accuracy: 1.0000 - val_loss: 49824.2305 - val_sparse_categorical_accuracy: 0.1010\n",
      "Epoch 1/3\n",
      "183/183 [==============================] - 1s 2ms/step - loss: 1.0511 - sparse_categorical_accuracy: 0.9947 - val_loss: 104492.7266 - val_sparse_categorical_accuracy: 0.0930\n",
      "Epoch 2/3\n",
      "183/183 [==============================] - 0s 2ms/step - loss: 0.0000e+00 - sparse_categorical_accuracy: 1.0000 - val_loss: 104492.7266 - val_sparse_categorical_accuracy: 0.0930\n",
      "Epoch 3/3\n",
      "183/183 [==============================] - 0s 2ms/step - loss: 0.0000e+00 - sparse_categorical_accuracy: 1.0000 - val_loss: 104492.7266 - val_sparse_categorical_accuracy: 0.0930\n",
      "Epoch 1/3\n",
      "186/186 [==============================] - 1s 2ms/step - loss: 1.0445 - sparse_categorical_accuracy: 0.9946 - val_loss: 56319.5391 - val_sparse_categorical_accuracy: 0.0900\n",
      "Epoch 2/3\n",
      "186/186 [==============================] - 0s 2ms/step - loss: 0.0000e+00 - sparse_categorical_accuracy: 1.0000 - val_loss: 56319.5391 - val_sparse_categorical_accuracy: 0.0900\n",
      "Epoch 3/3\n",
      "186/186 [==============================] - 0s 2ms/step - loss: 0.0000e+00 - sparse_categorical_accuracy: 1.0000 - val_loss: 56319.5391 - val_sparse_categorical_accuracy: 0.0900\n"
     ]
    },
    {
     "ename": "NameError",
     "evalue": "name 'client' is not defined",
     "output_type": "error",
     "traceback": [
      "\u001b[1;31m---------------------------------------------------------------------------\u001b[0m",
      "\u001b[1;31mNameError\u001b[0m                                 Traceback (most recent call last)",
      "\u001b[1;32m~\\AppData\\Local\\Temp/ipykernel_46452/3988732322.py\u001b[0m in \u001b[0;36m<module>\u001b[1;34m\u001b[0m\n\u001b[0;32m      3\u001b[0m \u001b[1;33m\u001b[0m\u001b[0m\n\u001b[0;32m      4\u001b[0m \u001b[1;31m# Perform federated averaging on the clients\u001b[0m\u001b[1;33m\u001b[0m\u001b[1;33m\u001b[0m\u001b[1;33m\u001b[0m\u001b[0m\n\u001b[1;32m----> 5\u001b[1;33m \u001b[0mserver\u001b[0m\u001b[1;33m.\u001b[0m\u001b[0mfederated_averaging\u001b[0m\u001b[1;33m(\u001b[0m\u001b[0mROUNDS\u001b[0m\u001b[1;33m)\u001b[0m\u001b[1;33m\u001b[0m\u001b[1;33m\u001b[0m\u001b[0m\n\u001b[0m",
      "\u001b[1;32m~\\AppData\\Local\\Temp/ipykernel_46452/3925319514.py\u001b[0m in \u001b[0;36mfederated_averaging\u001b[1;34m(self, rnds)\u001b[0m\n\u001b[0;32m     49\u001b[0m             \u001b[0maverage_weights\u001b[0m \u001b[1;33m=\u001b[0m \u001b[1;33m[\u001b[0m\u001b[0mx\u001b[0m \u001b[1;33m+\u001b[0m \u001b[0my\u001b[0m \u001b[1;32mfor\u001b[0m \u001b[0mx\u001b[0m\u001b[1;33m,\u001b[0m \u001b[0my\u001b[0m \u001b[1;32min\u001b[0m \u001b[0mzip\u001b[0m\u001b[1;33m(\u001b[0m\u001b[0minit_weights\u001b[0m\u001b[1;33m,\u001b[0m \u001b[0mtmp_weights\u001b[0m\u001b[1;33m)\u001b[0m\u001b[1;33m]\u001b[0m\u001b[1;33m\u001b[0m\u001b[1;33m\u001b[0m\u001b[0m\n\u001b[0;32m     50\u001b[0m \u001b[1;33m\u001b[0m\u001b[0m\n\u001b[1;32m---> 51\u001b[1;33m         \u001b[0mself\u001b[0m\u001b[1;33m.\u001b[0m\u001b[0mupdate_weights\u001b[0m\u001b[1;33m(\u001b[0m\u001b[0mnp\u001b[0m\u001b[1;33m.\u001b[0m\u001b[0masarray\u001b[0m\u001b[1;33m(\u001b[0m\u001b[0maverage_weights\u001b[0m\u001b[1;33m)\u001b[0m\u001b[1;33m)\u001b[0m\u001b[1;33m\u001b[0m\u001b[1;33m\u001b[0m\u001b[0m\n\u001b[0m\u001b[0;32m     52\u001b[0m         \u001b[0mprint\u001b[0m\u001b[1;33m(\u001b[0m\u001b[1;34m'FINISHED'\u001b[0m\u001b[1;33m)\u001b[0m\u001b[1;33m\u001b[0m\u001b[1;33m\u001b[0m\u001b[0m\n",
      "\u001b[1;32m~\\AppData\\Local\\Temp/ipykernel_46452/3925319514.py\u001b[0m in \u001b[0;36mupdate_weights\u001b[1;34m(self, new_weights)\u001b[0m\n\u001b[0;32m     29\u001b[0m         \u001b[0mself\u001b[0m\u001b[1;33m.\u001b[0m\u001b[0mweights\u001b[0m \u001b[1;33m=\u001b[0m \u001b[0mnew_weights\u001b[0m\u001b[1;33m\u001b[0m\u001b[1;33m\u001b[0m\u001b[0m\n\u001b[0;32m     30\u001b[0m         \u001b[1;32mfor\u001b[0m \u001b[0mc\u001b[0m \u001b[1;32min\u001b[0m \u001b[0mself\u001b[0m\u001b[1;33m.\u001b[0m\u001b[0mclients\u001b[0m\u001b[1;33m:\u001b[0m\u001b[1;33m\u001b[0m\u001b[1;33m\u001b[0m\u001b[0m\n\u001b[1;32m---> 31\u001b[1;33m             \u001b[0mclient\u001b[0m\u001b[1;33m.\u001b[0m\u001b[0mupdate_weights\u001b[0m\u001b[1;33m(\u001b[0m\u001b[0mself\u001b[0m\u001b[1;33m.\u001b[0m\u001b[0mget_weights\u001b[0m\u001b[1;33m(\u001b[0m\u001b[1;33m)\u001b[0m\u001b[1;33m)\u001b[0m\u001b[1;33m\u001b[0m\u001b[1;33m\u001b[0m\u001b[0m\n\u001b[0m\u001b[0;32m     32\u001b[0m \u001b[1;33m\u001b[0m\u001b[0m\n\u001b[0;32m     33\u001b[0m     \u001b[1;31m# Performs federated averaging for given amount of rounds\u001b[0m\u001b[1;33m\u001b[0m\u001b[1;33m\u001b[0m\u001b[1;33m\u001b[0m\u001b[0m\n",
      "\u001b[1;31mNameError\u001b[0m: name 'client' is not defined"
     ]
    }
   ],
   "source": [
    "# Initialize the clients' weights\n",
    "set_client_weights(init_weights, server.clients)\n",
    "\n",
    "# Perform federated averaging on the clients\n",
    "server.federated_averaging(ROUNDS)"
   ]
  },
  {
   "cell_type": "markdown",
   "id": "8c7454d2",
   "metadata": {},
   "source": [
    "# Testing - delete later"
   ]
  },
  {
   "cell_type": "code",
   "execution_count": 15,
   "id": "adc0cb78",
   "metadata": {},
   "outputs": [
    {
     "name": "stdout",
     "output_type": "stream",
     "text": [
      "Epoch 1/3\n",
      "186/186 [==============================] - 11s 6ms/step - loss: 0.2625 - sparse_categorical_accuracy: 0.9946 - val_loss: 0.0000e+00 - val_sparse_categorical_accuracy: 1.0000\n",
      "Epoch 2/3\n",
      "186/186 [==============================] - 1s 4ms/step - loss: 0.0000e+00 - sparse_categorical_accuracy: 1.0000 - val_loss: 0.0000e+00 - val_sparse_categorical_accuracy: 1.0000\n",
      "Epoch 3/3\n",
      "186/186 [==============================] - 1s 4ms/step - loss: 0.0000e+00 - sparse_categorical_accuracy: 1.0000 - val_loss: 0.0000e+00 - val_sparse_categorical_accuracy: 1.0000\n",
      "Epoch 1/3\n",
      "211/211 [==============================] - 1s 5ms/step - loss: 0.1612 - sparse_categorical_accuracy: 0.9953 - val_loss: 0.0000e+00 - val_sparse_categorical_accuracy: 1.0000\n",
      "Epoch 2/3\n",
      "211/211 [==============================] - 1s 4ms/step - loss: 0.0000e+00 - sparse_categorical_accuracy: 1.0000 - val_loss: 0.0000e+00 - val_sparse_categorical_accuracy: 1.0000\n",
      "Epoch 3/3\n",
      "211/211 [==============================] - 1s 4ms/step - loss: 0.0000e+00 - sparse_categorical_accuracy: 1.0000 - val_loss: 0.0000e+00 - val_sparse_categorical_accuracy: 1.0000\n",
      "Epoch 1/3\n",
      "187/187 [==============================] - 1s 6ms/step - loss: 0.1646 - sparse_categorical_accuracy: 0.9946 - val_loss: 0.0000e+00 - val_sparse_categorical_accuracy: 1.0000\n",
      "Epoch 2/3\n",
      "187/187 [==============================] - 1s 4ms/step - loss: 0.0000e+00 - sparse_categorical_accuracy: 1.0000 - val_loss: 0.0000e+00 - val_sparse_categorical_accuracy: 1.0000\n",
      "Epoch 3/3\n",
      "187/187 [==============================] - 1s 5ms/step - loss: 0.0000e+00 - sparse_categorical_accuracy: 1.0000 - val_loss: 0.0000e+00 - val_sparse_categorical_accuracy: 1.0000\n",
      "Epoch 1/3\n",
      "192/192 [==============================] - 1s 5ms/step - loss: 0.2242 - sparse_categorical_accuracy: 0.9948 - val_loss: 0.0000e+00 - val_sparse_categorical_accuracy: 1.0000\n",
      "Epoch 2/3\n",
      "192/192 [==============================] - 1s 4ms/step - loss: 0.0000e+00 - sparse_categorical_accuracy: 1.0000 - val_loss: 0.0000e+00 - val_sparse_categorical_accuracy: 1.0000\n",
      "Epoch 3/3\n",
      "192/192 [==============================] - 1s 4ms/step - loss: 0.0000e+00 - sparse_categorical_accuracy: 1.0000 - val_loss: 0.0000e+00 - val_sparse_categorical_accuracy: 1.0000\n",
      "Epoch 1/3\n",
      "183/183 [==============================] - 1s 5ms/step - loss: 0.0702 - sparse_categorical_accuracy: 0.9947 - val_loss: 0.0000e+00 - val_sparse_categorical_accuracy: 1.0000\n",
      "Epoch 2/3\n",
      "183/183 [==============================] - 1s 5ms/step - loss: 0.0000e+00 - sparse_categorical_accuracy: 1.0000 - val_loss: 0.0000e+00 - val_sparse_categorical_accuracy: 1.0000\n",
      "Epoch 3/3\n",
      "183/183 [==============================] - 1s 4ms/step - loss: 0.0000e+00 - sparse_categorical_accuracy: 1.0000 - val_loss: 0.0000e+00 - val_sparse_categorical_accuracy: 1.0000\n",
      "Epoch 1/3\n",
      "170/170 [==============================] - 1s 5ms/step - loss: 0.1143 - sparse_categorical_accuracy: 0.9943 - val_loss: 0.0000e+00 - val_sparse_categorical_accuracy: 1.0000\n",
      "Epoch 2/3\n",
      "170/170 [==============================] - 1s 4ms/step - loss: 0.0000e+00 - sparse_categorical_accuracy: 1.0000 - val_loss: 0.0000e+00 - val_sparse_categorical_accuracy: 1.0000\n",
      "Epoch 3/3\n",
      "170/170 [==============================] - 1s 4ms/step - loss: 0.0000e+00 - sparse_categorical_accuracy: 1.0000 - val_loss: 0.0000e+00 - val_sparse_categorical_accuracy: 1.0000\n",
      "Epoch 1/3\n",
      "185/185 [==============================] - 1s 5ms/step - loss: 0.0122 - sparse_categorical_accuracy: 0.9983 - val_loss: 0.0000e+00 - val_sparse_categorical_accuracy: 1.0000\n",
      "Epoch 2/3\n",
      "185/185 [==============================] - 1s 4ms/step - loss: 0.0000e+00 - sparse_categorical_accuracy: 1.0000 - val_loss: 0.0000e+00 - val_sparse_categorical_accuracy: 1.0000\n",
      "Epoch 3/3\n",
      "185/185 [==============================] - 1s 4ms/step - loss: 0.0000e+00 - sparse_categorical_accuracy: 1.0000 - val_loss: 0.0000e+00 - val_sparse_categorical_accuracy: 1.0000\n",
      "Epoch 1/3\n",
      "196/196 [==============================] - 1s 5ms/step - loss: 0.2066 - sparse_categorical_accuracy: 0.9949 - val_loss: 0.0000e+00 - val_sparse_categorical_accuracy: 1.0000\n",
      "Epoch 2/3\n",
      "196/196 [==============================] - 1s 4ms/step - loss: 0.0000e+00 - sparse_categorical_accuracy: 1.0000 - val_loss: 0.0000e+00 - val_sparse_categorical_accuracy: 1.0000\n",
      "Epoch 3/3\n",
      "196/196 [==============================] - 1s 5ms/step - loss: 0.0000e+00 - sparse_categorical_accuracy: 1.0000 - val_loss: 0.0000e+00 - val_sparse_categorical_accuracy: 1.0000\n",
      "Epoch 1/3\n",
      "183/183 [==============================] - 1s 6ms/step - loss: 0.1585 - sparse_categorical_accuracy: 0.9945 - val_loss: 0.0000e+00 - val_sparse_categorical_accuracy: 1.0000\n",
      "Epoch 2/3\n",
      "183/183 [==============================] - 1s 5ms/step - loss: 0.0000e+00 - sparse_categorical_accuracy: 1.0000 - val_loss: 0.0000e+00 - val_sparse_categorical_accuracy: 1.0000\n",
      "Epoch 3/3\n",
      "183/183 [==============================] - 1s 4ms/step - loss: 0.0000e+00 - sparse_categorical_accuracy: 1.0000 - val_loss: 0.0000e+00 - val_sparse_categorical_accuracy: 1.0000\n",
      "Epoch 1/3\n",
      "186/186 [==============================] - 1s 5ms/step - loss: 0.2898 - sparse_categorical_accuracy: 0.9946 - val_loss: 0.0000e+00 - val_sparse_categorical_accuracy: 1.0000\n",
      "Epoch 2/3\n",
      "186/186 [==============================] - 1s 4ms/step - loss: 0.0000e+00 - sparse_categorical_accuracy: 1.0000 - val_loss: 0.0000e+00 - val_sparse_categorical_accuracy: 1.0000\n",
      "Epoch 3/3\n",
      "186/186 [==============================] - 1s 4ms/step - loss: 0.0000e+00 - sparse_categorical_accuracy: 1.0000 - val_loss: 0.0000e+00 - val_sparse_categorical_accuracy: 1.0000\n"
     ]
    },
    {
     "ename": "AttributeError",
     "evalue": "'list' object has no attribute 'update_weights'",
     "output_type": "error",
     "traceback": [
      "\u001b[1;31m---------------------------------------------------------------------------\u001b[0m",
      "\u001b[1;31mAttributeError\u001b[0m                            Traceback (most recent call last)",
      "\u001b[1;32m~\\AppData\\Local\\Temp/ipykernel_21000/1493316789.py\u001b[0m in \u001b[0;36m<module>\u001b[1;34m\u001b[0m\n\u001b[0;32m     22\u001b[0m     \u001b[0mprint\u001b[0m\u001b[1;33m(\u001b[0m\u001b[1;34m'FINISHED'\u001b[0m\u001b[1;33m)\u001b[0m\u001b[1;33m\u001b[0m\u001b[1;33m\u001b[0m\u001b[0m\n\u001b[0;32m     23\u001b[0m \u001b[1;33m\u001b[0m\u001b[0m\n\u001b[1;32m---> 24\u001b[1;33m \u001b[0mserver\u001b[0m\u001b[1;33m.\u001b[0m\u001b[0mfederated_averaging\u001b[0m\u001b[1;33m(\u001b[0m\u001b[0mROUNDS\u001b[0m\u001b[1;33m)\u001b[0m\u001b[1;33m\u001b[0m\u001b[1;33m\u001b[0m\u001b[0m\n\u001b[0m",
      "\u001b[1;32m~\\AppData\\Local\\Temp/ipykernel_21000/2540756577.py\u001b[0m in \u001b[0;36mfederated_averaging\u001b[1;34m(self, rnds)\u001b[0m\n\u001b[0;32m     51\u001b[0m             \u001b[0maverage_weights\u001b[0m \u001b[1;33m=\u001b[0m \u001b[1;33m[\u001b[0m\u001b[0mx\u001b[0m \u001b[1;33m+\u001b[0m \u001b[0my\u001b[0m \u001b[1;32mfor\u001b[0m \u001b[0mx\u001b[0m\u001b[1;33m,\u001b[0m \u001b[0my\u001b[0m \u001b[1;32min\u001b[0m \u001b[0mzip\u001b[0m\u001b[1;33m(\u001b[0m\u001b[0minit_weights\u001b[0m\u001b[1;33m,\u001b[0m \u001b[0mtmp_weights\u001b[0m\u001b[1;33m)\u001b[0m\u001b[1;33m]\u001b[0m\u001b[1;33m\u001b[0m\u001b[1;33m\u001b[0m\u001b[0m\n\u001b[0;32m     52\u001b[0m \u001b[1;33m\u001b[0m\u001b[0m\n\u001b[1;32m---> 53\u001b[1;33m         \u001b[0mself\u001b[0m\u001b[1;33m.\u001b[0m\u001b[0mupdate_weights\u001b[0m\u001b[1;33m(\u001b[0m\u001b[0maverage_weights\u001b[0m\u001b[1;33m)\u001b[0m\u001b[1;33m\u001b[0m\u001b[1;33m\u001b[0m\u001b[0m\n\u001b[0m\u001b[0;32m     54\u001b[0m         \u001b[0mprint\u001b[0m\u001b[1;33m(\u001b[0m\u001b[1;34m'FINISHED'\u001b[0m\u001b[1;33m)\u001b[0m\u001b[1;33m\u001b[0m\u001b[1;33m\u001b[0m\u001b[0m\n",
      "\u001b[1;32m~\\AppData\\Local\\Temp/ipykernel_21000/2540756577.py\u001b[0m in \u001b[0;36mupdate_weights\u001b[1;34m(self, new_weights)\u001b[0m\n\u001b[0;32m     32\u001b[0m         \u001b[0mself\u001b[0m\u001b[1;33m.\u001b[0m\u001b[0mweights\u001b[0m \u001b[1;33m=\u001b[0m \u001b[0mnew_weights\u001b[0m\u001b[1;33m\u001b[0m\u001b[1;33m\u001b[0m\u001b[0m\n\u001b[0;32m     33\u001b[0m         \u001b[1;32mfor\u001b[0m \u001b[0mc\u001b[0m \u001b[1;32min\u001b[0m \u001b[0mself\u001b[0m\u001b[1;33m.\u001b[0m\u001b[0mclients\u001b[0m\u001b[1;33m:\u001b[0m\u001b[1;33m\u001b[0m\u001b[1;33m\u001b[0m\u001b[0m\n\u001b[1;32m---> 34\u001b[1;33m             \u001b[0mself\u001b[0m\u001b[1;33m.\u001b[0m\u001b[0mclients\u001b[0m\u001b[1;33m.\u001b[0m\u001b[0mupdate_weights\u001b[0m\u001b[1;33m(\u001b[0m\u001b[0mself\u001b[0m\u001b[1;33m.\u001b[0m\u001b[0mget_weights\u001b[0m\u001b[1;33m(\u001b[0m\u001b[1;33m)\u001b[0m\u001b[1;33m)\u001b[0m\u001b[1;33m\u001b[0m\u001b[1;33m\u001b[0m\u001b[0m\n\u001b[0m\u001b[0;32m     35\u001b[0m \u001b[1;33m\u001b[0m\u001b[0m\n\u001b[0;32m     36\u001b[0m     \u001b[1;32mdef\u001b[0m \u001b[0mfederated_averaging\u001b[0m\u001b[1;33m(\u001b[0m\u001b[0mself\u001b[0m\u001b[1;33m,\u001b[0m \u001b[0mrnds\u001b[0m\u001b[1;33m)\u001b[0m\u001b[1;33m:\u001b[0m\u001b[1;33m\u001b[0m\u001b[1;33m\u001b[0m\u001b[0m\n",
      "\u001b[1;31mAttributeError\u001b[0m: 'list' object has no attribute 'update_weights'"
     ]
    }
   ],
   "source": [
    "\n",
    "#model.set_weights(init_weights)\n",
    "def FedAvg():\n",
    "    weights = []\n",
    "    average_weights = np.asarray(model.get_weights())\n",
    "    # Training for a specified amount of rounds\n",
    "    for rnd in range(ROUNDS):\n",
    "        t_weights = []\n",
    "        total_samples = 0\n",
    "        # Training loop - trains each client for a single round for a specified amount of epochs\n",
    "        for client in clients:\n",
    "            t_weights.append(client.train())\n",
    "            \n",
    "            total_samples += client.get_sample_amount()\n",
    "            \n",
    "        tmp_weights = [t_weights[i] * len(clients[i].dataset.testing_data) for i in range(NUMBER_OF_CLIENTS)]\n",
    "        tmp_weights = [w / total_samples for w in average_weights]\n",
    "        \n",
    "        average_weights = [x + y for x, y in zip(init_weights, tmp_weights)]\n",
    "        \n",
    "    model.set_weights(average_weights)\n",
    "    print('FINISHED')\n",
    "    \n"
   ]
  },
  {
   "cell_type": "code",
   "execution_count": 45,
   "id": "48a03dce",
   "metadata": {},
   "outputs": [
    {
     "data": {
      "text/plain": [
       "770"
      ]
     },
     "execution_count": 45,
     "metadata": {},
     "output_type": "execute_result"
    }
   ],
   "source": [
    "len(v1[1])"
   ]
  },
  {
   "cell_type": "code",
   "execution_count": 24,
   "id": "ed4d5405",
   "metadata": {},
   "outputs": [
    {
     "data": {
      "text/plain": [
       "array([0, 1, 2, 3, 4, 5, 6, 7, 8, 9], dtype=uint8)"
      ]
     },
     "execution_count": 24,
     "metadata": {},
     "output_type": "execute_result"
    }
   ],
   "source": [
    "np.unique(train_labels)"
   ]
  },
  {
   "cell_type": "code",
   "execution_count": 68,
   "id": "453dffd8",
   "metadata": {},
   "outputs": [
    {
     "name": "stdout",
     "output_type": "stream",
     "text": [
      "Epoch 1/10\n",
      "186/186 [==============================] - 1s 3ms/step - loss: 0.9521 - sparse_categorical_accuracy: 0.9936 - val_loss: 0.0000e+00 - val_sparse_categorical_accuracy: 1.0000\n",
      "Epoch 2/10\n",
      "186/186 [==============================] - 1s 3ms/step - loss: 0.0000e+00 - sparse_categorical_accuracy: 1.0000 - val_loss: 0.0000e+00 - val_sparse_categorical_accuracy: 1.0000\n",
      "Epoch 3/10\n",
      "186/186 [==============================] - 1s 3ms/step - loss: 0.0000e+00 - sparse_categorical_accuracy: 1.0000 - val_loss: 0.0000e+00 - val_sparse_categorical_accuracy: 1.0000\n",
      "Epoch 4/10\n",
      "186/186 [==============================] - 1s 3ms/step - loss: 0.0000e+00 - sparse_categorical_accuracy: 1.0000 - val_loss: 0.0000e+00 - val_sparse_categorical_accuracy: 1.0000\n",
      "Epoch 5/10\n",
      "186/186 [==============================] - 1s 3ms/step - loss: 0.0000e+00 - sparse_categorical_accuracy: 1.0000 - val_loss: 0.0000e+00 - val_sparse_categorical_accuracy: 1.0000\n",
      "Epoch 6/10\n",
      "186/186 [==============================] - 1s 3ms/step - loss: 0.0000e+00 - sparse_categorical_accuracy: 1.0000 - val_loss: 0.0000e+00 - val_sparse_categorical_accuracy: 1.0000\n",
      "Epoch 7/10\n",
      "186/186 [==============================] - 1s 3ms/step - loss: 0.0000e+00 - sparse_categorical_accuracy: 1.0000 - val_loss: 0.0000e+00 - val_sparse_categorical_accuracy: 1.0000\n",
      "Epoch 8/10\n",
      "186/186 [==============================] - 1s 3ms/step - loss: 0.0000e+00 - sparse_categorical_accuracy: 1.0000 - val_loss: 0.0000e+00 - val_sparse_categorical_accuracy: 1.0000\n",
      "Epoch 9/10\n",
      "186/186 [==============================] - 1s 3ms/step - loss: 0.0000e+00 - sparse_categorical_accuracy: 1.0000 - val_loss: 0.0000e+00 - val_sparse_categorical_accuracy: 1.0000\n",
      "Epoch 10/10\n",
      "186/186 [==============================] - 1s 3ms/step - loss: 0.0000e+00 - sparse_categorical_accuracy: 1.0000 - val_loss: 0.0000e+00 - val_sparse_categorical_accuracy: 1.0000\n"
     ]
    }
   ],
   "source": [
    "history = model.fit(\n",
    "    np.asarray(clients[0].dataset.training_data), \n",
    "    np.asarray(clients[0].dataset.training_labels), \n",
    "    epochs=10, \n",
    "    validation_data=(\n",
    "        np.asarray(clients[0].dataset.testing_data), \n",
    "        np.asarray(clients[0].dataset.testing_labels)\n",
    "    )\n",
    ")"
   ]
  },
  {
   "cell_type": "code",
   "execution_count": null,
   "id": "0b154f49",
   "metadata": {},
   "outputs": [],
   "source": [
    "plt.plot(history.history['sparse_categorical_accuracy'], label='accuracy')\n",
    "plt.plot(history.history['val_sparse_categorical_accuracy'], label = 'val_accuracy')\n",
    "plt.xlabel('Epoch')\n",
    "plt.ylabel('Accuracy')\n",
    "plt.ylim([0, 1])\n",
    "plt.legend(loc='lower right')\n",
    "\n",
    "test_loss, test_acc = model.evaluate(np.asarray(orderedListDataTest[0]),  np.asarray(orderedListLabelsTest[0]), verbose=2)\n"
   ]
  },
  {
   "cell_type": "code",
   "execution_count": null,
   "id": "1e72f57f",
   "metadata": {},
   "outputs": [],
   "source": [
    "NUMBER_OF_MODELS = 10\n",
    "models = []\n",
    "for i in range(NUMBER_OF_MODELS):\n",
    "    \n",
    "    models.append(\n",
    "        Client(model.fit(\n",
    "            np.asarray(orderedListData[i]), \n",
    "            np.asarray(orderedListLabels[i]), \n",
    "            epochs=10, \n",
    "            validation_data=(\n",
    "                np.asarray(orderedListDataTest[i]), np.asarray(orderedListLabelsTest[i])\n",
    "            )), len(orderedListData[i])))"
   ]
  },
  {
   "cell_type": "code",
   "execution_count": null,
   "id": "a7ad64a7",
   "metadata": {},
   "outputs": [],
   "source": [
    "(models[0].model.get_weights() == models[1].model.get_weights()).all()"
   ]
  },
  {
   "cell_type": "code",
   "execution_count": null,
   "id": "cbf7b733",
   "metadata": {},
   "outputs": [],
   "source": [
    "np.array_equal(models[0].model.get_weights(), models[1].model.get_weights())"
   ]
  },
  {
   "cell_type": "code",
   "execution_count": null,
   "id": "032c8f52",
   "metadata": {},
   "outputs": [],
   "source": [
    "models[0].sample_amount"
   ]
  },
  {
   "cell_type": "code",
   "execution_count": null,
   "id": "e70bd4e0",
   "metadata": {},
   "outputs": [],
   "source": []
  },
  {
   "cell_type": "code",
   "execution_count": null,
   "id": "af2aa2a4",
   "metadata": {},
   "outputs": [],
   "source": [
    "train_data = [[] for i in range(10)]\n",
    "train_data"
   ]
  },
  {
   "cell_type": "code",
   "execution_count": null,
   "id": "0f9449f4",
   "metadata": {},
   "outputs": [],
   "source": [
    "[train_data[train_labels[i]].append(train_images[i]) for i in range(len(train_images))]"
   ]
  },
  {
   "cell_type": "code",
   "execution_count": null,
   "id": "0a146c30",
   "metadata": {},
   "outputs": [],
   "source": [
    "len(train_data[9])"
   ]
  },
  {
   "cell_type": "code",
   "execution_count": null,
   "id": "79cc14bd",
   "metadata": {},
   "outputs": [],
   "source": [
    "train_labels[0]"
   ]
  },
  {
   "cell_type": "code",
   "execution_count": 42,
   "id": "1c4984cf",
   "metadata": {},
   "outputs": [],
   "source": [
    "test_weights = np.asarray(init_weights) + 1"
   ]
  },
  {
   "cell_type": "code",
   "execution_count": 45,
   "id": "a4a3fe2c",
   "metadata": {},
   "outputs": [
    {
     "name": "stderr",
     "output_type": "stream",
     "text": [
      "a:\\projects\\python sesong 2\\env\\lib\\site-packages\\numpy\\core\\_asarray.py:83: VisibleDeprecationWarning: Creating an ndarray from ragged nested sequences (which is a list-or-tuple of lists-or-tuples-or ndarrays with different lengths or shapes) is deprecated. If you meant to do this, you must specify 'dtype=object' when creating the ndarray\n",
      "  return array(a, dtype, copy=False, order=order)\n"
     ]
    },
    {
     "data": {
      "text/plain": [
       "array([array([[0.5, 0.5, 0.5, ..., 0.5, 0.5, 0.5],\n",
       "       [0.5, 0.5, 0.5, ..., 0.5, 0.5, 0.5],\n",
       "       [0.5, 0.5, 0.5, ..., 0.5, 0.5, 0.5],\n",
       "       ...,\n",
       "       [0.5, 0.5, 0.5, ..., 0.5, 0.5, 0.5],\n",
       "       [0.5, 0.5, 0.5, ..., 0.5, 0.5, 0.5],\n",
       "       [0.5, 0.5, 0.5, ..., 0.5, 0.5, 0.5]], dtype=float32),\n",
       "       array([0.5, 0.5, 0.5, 0.5, 0.5, 0.5, 0.5, 0.5, 0.5, 0.5, 0.5, 0.5, 0.5,\n",
       "       0.5, 0.5, 0.5, 0.5, 0.5, 0.5, 0.5, 0.5, 0.5, 0.5, 0.5, 0.5, 0.5,\n",
       "       0.5, 0.5, 0.5, 0.5, 0.5, 0.5, 0.5, 0.5, 0.5, 0.5, 0.5, 0.5, 0.5,\n",
       "       0.5, 0.5, 0.5, 0.5, 0.5, 0.5, 0.5, 0.5, 0.5, 0.5, 0.5, 0.5, 0.5,\n",
       "       0.5, 0.5, 0.5, 0.5, 0.5, 0.5, 0.5, 0.5, 0.5, 0.5, 0.5, 0.5, 0.5,\n",
       "       0.5, 0.5, 0.5, 0.5, 0.5, 0.5, 0.5, 0.5, 0.5, 0.5, 0.5, 0.5, 0.5,\n",
       "       0.5, 0.5, 0.5, 0.5, 0.5, 0.5, 0.5, 0.5, 0.5, 0.5, 0.5, 0.5, 0.5,\n",
       "       0.5, 0.5, 0.5, 0.5, 0.5, 0.5, 0.5, 0.5, 0.5, 0.5, 0.5, 0.5, 0.5,\n",
       "       0.5, 0.5, 0.5, 0.5, 0.5, 0.5, 0.5, 0.5, 0.5, 0.5, 0.5, 0.5, 0.5,\n",
       "       0.5, 0.5, 0.5, 0.5, 0.5, 0.5, 0.5, 0.5, 0.5, 0.5, 0.5],\n",
       "      dtype=float32),\n",
       "       array([[0.5, 0.5, 0.5, ..., 0.5, 0.5, 0.5],\n",
       "       [0.5, 0.5, 0.5, ..., 0.5, 0.5, 0.5],\n",
       "       [0.5, 0.5, 0.5, ..., 0.5, 0.5, 0.5],\n",
       "       ...,\n",
       "       [0.5, 0.5, 0.5, ..., 0.5, 0.5, 0.5],\n",
       "       [0.5, 0.5, 0.5, ..., 0.5, 0.5, 0.5],\n",
       "       [0.5, 0.5, 0.5, ..., 0.5, 0.5, 0.5]], dtype=float32),\n",
       "       array([0.5, 0.5, 0.5, 0.5, 0.5, 0.5, 0.5, 0.5, 0.5, 0.5], dtype=float32)],\n",
       "      dtype=object)"
      ]
     },
     "execution_count": 45,
     "metadata": {},
     "output_type": "execute_result"
    }
   ],
   "source": [
    "(test_weights + np.asarray(init_weights)) / 2"
   ]
  },
  {
   "cell_type": "code",
   "execution_count": 34,
   "id": "55e3b299",
   "metadata": {},
   "outputs": [],
   "source": [
    "model = tf.keras.models.Sequential([\n",
    "  tf.keras.layers.Flatten(input_shape=(28, 28)),\n",
    "  tf.keras.layers.Dense(128, activation='relu'),\n",
    "  tf.keras.layers.Dense(10)\n",
    "])\n",
    "\n",
    "model.compile(optimizer=tf.keras.optimizers.SGD(0.01),\n",
    "    loss=tf.keras.losses.SparseCategoricalCrossentropy(from_logits=True),\n",
    "    metrics=[tf.keras.metrics.SparseCategoricalAccuracy()],\n",
    "             )"
   ]
  },
  {
   "cell_type": "code",
   "execution_count": 35,
   "id": "6f085e95",
   "metadata": {},
   "outputs": [
    {
     "data": {
      "text/plain": [
       "array([array([[ 0.02979872, -0.07496471,  0.06127212, ...,  0.00026497,\n",
       "         0.01988209,  0.02875005],\n",
       "       [-0.06187219, -0.07302045, -0.06389229, ..., -0.04385625,\n",
       "        -0.00143486,  0.0573824 ],\n",
       "       [-0.06367228, -0.03734235, -0.01923789, ..., -0.04568401,\n",
       "        -0.07224934, -0.05466868],\n",
       "       ...,\n",
       "       [ 0.06434707, -0.04622708, -0.01274758, ...,  0.0193691 ,\n",
       "         0.08004429,  0.04332334],\n",
       "       [ 0.0633579 ,  0.03055925, -0.06869059, ..., -0.06149226,\n",
       "         0.0326076 ,  0.06383979],\n",
       "       [-0.037656  , -0.00455572, -0.0554471 , ...,  0.03669924,\n",
       "        -0.02400378, -0.00825565]], dtype=float32),\n",
       "       array([0., 0., 0., 0., 0., 0., 0., 0., 0., 0., 0., 0., 0., 0., 0., 0., 0.,\n",
       "       0., 0., 0., 0., 0., 0., 0., 0., 0., 0., 0., 0., 0., 0., 0., 0., 0.,\n",
       "       0., 0., 0., 0., 0., 0., 0., 0., 0., 0., 0., 0., 0., 0., 0., 0., 0.,\n",
       "       0., 0., 0., 0., 0., 0., 0., 0., 0., 0., 0., 0., 0., 0., 0., 0., 0.,\n",
       "       0., 0., 0., 0., 0., 0., 0., 0., 0., 0., 0., 0., 0., 0., 0., 0., 0.,\n",
       "       0., 0., 0., 0., 0., 0., 0., 0., 0., 0., 0., 0., 0., 0., 0., 0., 0.,\n",
       "       0., 0., 0., 0., 0., 0., 0., 0., 0., 0., 0., 0., 0., 0., 0., 0., 0.,\n",
       "       0., 0., 0., 0., 0., 0., 0., 0., 0.], dtype=float32),\n",
       "       array([[ 0.08472936, -0.06166583,  0.01433192, ..., -0.06677844,\n",
       "         0.09587781,  0.09025569],\n",
       "       [-0.20826639,  0.00981821,  0.1571999 , ..., -0.15568763,\n",
       "         0.09765811,  0.04251079],\n",
       "       [-0.04298088, -0.12317774,  0.10682292, ...,  0.10534553,\n",
       "        -0.20627004, -0.03356814],\n",
       "       ...,\n",
       "       [ 0.19805981,  0.1472976 ,  0.03135423, ..., -0.12425489,\n",
       "         0.11928274,  0.18753935],\n",
       "       [-0.05642343,  0.15463425, -0.12697399, ..., -0.19445358,\n",
       "        -0.13036117, -0.11739852],\n",
       "       [ 0.11140247,  0.2001471 , -0.05152532, ...,  0.14789365,\n",
       "         0.06700419,  0.0935718 ]], dtype=float32),\n",
       "       array([0., 0., 0., 0., 0., 0., 0., 0., 0., 0.], dtype=float32)],\n",
       "      dtype=object)"
      ]
     },
     "execution_count": 35,
     "metadata": {},
     "output_type": "execute_result"
    }
   ],
   "source": [
    "np.asarray(model.get_weights())"
   ]
  },
  {
   "cell_type": "code",
   "execution_count": 29,
   "id": "09ef4b8f",
   "metadata": {},
   "outputs": [
    {
     "data": {
      "text/plain": [
       "array([[  0,   0,   0,   0,   0,   0,   0,   0,   0,   0,   0,   0,   0,\n",
       "          0,   0,   0,   0,   0,   0,   0,   0,   0,   0,   0,   0,   0,\n",
       "          0,   0],\n",
       "       [  0,   0,   0,   0,   0,   0,   0,   0,   0,   0,   0,   0,   0,\n",
       "          0,   0,   0,   0,   0,   0,   0,   0,   0,   0,   0,   0,   0,\n",
       "          0,   0],\n",
       "       [  0,   0,   0,   0,   0,   0,   0,   0,   0,   0,   0,   0,   0,\n",
       "          0,   0,   0,   0,   0,   0,   0,   0,   0,   0,   0,   0,   0,\n",
       "          0,   0],\n",
       "       [  0,   0,   0,   0,   0,   0,   0,   0,   0,   0,   0,   0,   0,\n",
       "          0,   0,   0,   0,   0,   0,   0,   0,   0,   0,   0,   0,   0,\n",
       "          0,   0],\n",
       "       [  0,   0,   0,   0,   0,   0,   0,   0,   0,   0,   0,   0,  11,\n",
       "        150, 253, 202,  31,   0,   0,   0,   0,   0,   0,   0,   0,   0,\n",
       "          0,   0],\n",
       "       [  0,   0,   0,   0,   0,   0,   0,   0,   0,   0,   0,   0,  37,\n",
       "        251, 251, 253, 107,   0,   0,   0,   0,   0,   0,   0,   0,   0,\n",
       "          0,   0],\n",
       "       [  0,   0,   0,   0,   0,   0,   0,   0,   0,   0,   0,  21, 197,\n",
       "        251, 251, 253, 107,   0,   0,   0,   0,   0,   0,   0,   0,   0,\n",
       "          0,   0],\n",
       "       [  0,   0,   0,   0,   0,   0,   0,   0,   0,   0, 110, 190, 251,\n",
       "        251, 251, 253, 169, 109,  62,   0,   0,   0,   0,   0,   0,   0,\n",
       "          0,   0],\n",
       "       [  0,   0,   0,   0,   0,   0,   0,   0,   0,   0, 253, 251, 251,\n",
       "        251, 251, 253, 251, 251, 220,  51,   0,   0,   0,   0,   0,   0,\n",
       "          0,   0],\n",
       "       [  0,   0,   0,   0,   0,   0,   0,   0,   0, 182, 255, 253, 253,\n",
       "        253, 253, 234, 222, 253, 253, 253,   0,   0,   0,   0,   0,   0,\n",
       "          0,   0],\n",
       "       [  0,   0,   0,   0,   0,   0,   0,   0,  63, 221, 253, 251, 251,\n",
       "        251, 147,  77,  62, 128, 251, 251, 105,   0,   0,   0,   0,   0,\n",
       "          0,   0],\n",
       "       [  0,   0,   0,   0,   0,   0,   0,  32, 231, 251, 253, 251, 220,\n",
       "        137,  10,   0,   0,  31, 230, 251, 243, 113,   5,   0,   0,   0,\n",
       "          0,   0],\n",
       "       [  0,   0,   0,   0,   0,   0,   0,  37, 251, 251, 253, 188,  20,\n",
       "          0,   0,   0,   0,   0, 109, 251, 253, 251,  35,   0,   0,   0,\n",
       "          0,   0],\n",
       "       [  0,   0,   0,   0,   0,   0,   0,  37, 251, 251, 201,  30,   0,\n",
       "          0,   0,   0,   0,   0,  31, 200, 253, 251,  35,   0,   0,   0,\n",
       "          0,   0],\n",
       "       [  0,   0,   0,   0,   0,   0,   0,  37, 253, 253,   0,   0,   0,\n",
       "          0,   0,   0,   0,   0,  32, 202, 255, 253, 164,   0,   0,   0,\n",
       "          0,   0],\n",
       "       [  0,   0,   0,   0,   0,   0,   0, 140, 251, 251,   0,   0,   0,\n",
       "          0,   0,   0,   0,   0, 109, 251, 253, 251,  35,   0,   0,   0,\n",
       "          0,   0],\n",
       "       [  0,   0,   0,   0,   0,   0,   0, 217, 251, 251,   0,   0,   0,\n",
       "          0,   0,   0,  21,  63, 231, 251, 253, 230,  30,   0,   0,   0,\n",
       "          0,   0],\n",
       "       [  0,   0,   0,   0,   0,   0,   0, 217, 251, 251,   0,   0,   0,\n",
       "          0,   0,   0, 144, 251, 251, 251, 221,  61,   0,   0,   0,   0,\n",
       "          0,   0],\n",
       "       [  0,   0,   0,   0,   0,   0,   0, 217, 251, 251,   0,   0,   0,\n",
       "          0,   0, 182, 221, 251, 251, 251, 180,   0,   0,   0,   0,   0,\n",
       "          0,   0],\n",
       "       [  0,   0,   0,   0,   0,   0,   0, 218, 253, 253,  73,  73, 228,\n",
       "        253, 253, 255, 253, 253, 253, 253,   0,   0,   0,   0,   0,   0,\n",
       "          0,   0],\n",
       "       [  0,   0,   0,   0,   0,   0,   0, 113, 251, 251, 253, 251, 251,\n",
       "        251, 251, 253, 251, 251, 251, 147,   0,   0,   0,   0,   0,   0,\n",
       "          0,   0],\n",
       "       [  0,   0,   0,   0,   0,   0,   0,  31, 230, 251, 253, 251, 251,\n",
       "        251, 251, 253, 230, 189,  35,  10,   0,   0,   0,   0,   0,   0,\n",
       "          0,   0],\n",
       "       [  0,   0,   0,   0,   0,   0,   0,   0,  62, 142, 253, 251, 251,\n",
       "        251, 251, 253, 107,   0,   0,   0,   0,   0,   0,   0,   0,   0,\n",
       "          0,   0],\n",
       "       [  0,   0,   0,   0,   0,   0,   0,   0,   0,   0,  72, 174, 251,\n",
       "        173,  71,  72,  30,   0,   0,   0,   0,   0,   0,   0,   0,   0,\n",
       "          0,   0],\n",
       "       [  0,   0,   0,   0,   0,   0,   0,   0,   0,   0,   0,   0,   0,\n",
       "          0,   0,   0,   0,   0,   0,   0,   0,   0,   0,   0,   0,   0,\n",
       "          0,   0],\n",
       "       [  0,   0,   0,   0,   0,   0,   0,   0,   0,   0,   0,   0,   0,\n",
       "          0,   0,   0,   0,   0,   0,   0,   0,   0,   0,   0,   0,   0,\n",
       "          0,   0],\n",
       "       [  0,   0,   0,   0,   0,   0,   0,   0,   0,   0,   0,   0,   0,\n",
       "          0,   0,   0,   0,   0,   0,   0,   0,   0,   0,   0,   0,   0,\n",
       "          0,   0],\n",
       "       [  0,   0,   0,   0,   0,   0,   0,   0,   0,   0,   0,   0,   0,\n",
       "          0,   0,   0,   0,   0,   0,   0,   0,   0,   0,   0,   0,   0,\n",
       "          0,   0]], dtype=uint8)"
      ]
     },
     "execution_count": 29,
     "metadata": {},
     "output_type": "execute_result"
    }
   ],
   "source": [
    "test_data[0][0]"
   ]
  },
  {
   "cell_type": "code",
   "execution_count": null,
   "id": "aa84d521",
   "metadata": {},
   "outputs": [],
   "source": []
  }
 ],
 "metadata": {
  "kernelspec": {
   "display_name": "Python 3 (ipykernel)",
   "language": "python",
   "name": "python3"
  },
  "language_info": {
   "codemirror_mode": {
    "name": "ipython",
    "version": 3
   },
   "file_extension": ".py",
   "mimetype": "text/x-python",
   "name": "python",
   "nbconvert_exporter": "python",
   "pygments_lexer": "ipython3",
   "version": "3.9.2"
  }
 },
 "nbformat": 4,
 "nbformat_minor": 5
}
